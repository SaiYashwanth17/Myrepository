{
 "cells": [
  {
   "cell_type": "markdown",
   "metadata": {},
   "source": [
    "Input from user"
   ]
  },
  {
   "cell_type": "code",
   "execution_count": 1,
   "metadata": {},
   "outputs": [
    {
     "name": "stdout",
     "output_type": "stream",
     "text": [
      "Row - 1: 0 8 1 6 9 3 0 0 0\n",
      "Row - 2: 0 3 0 0 0 5 9 0 0 \n",
      "Row - 3: 2 0 0 0 0 7 5 0 0\n",
      "Row - 4: 0 2 0 0 0 0 6 3 7 \n",
      "Row - 5: 4 6 0 3 0 9 0 2 5\n",
      "Row - 6: 1 5 3 0 0 0 0 4 0 \n",
      "Row - 7: 0 0 8 2 0 0 0 0 6\n",
      "Row - 8: 0 0 2 9 0 0 0 5 0 \n",
      "Row - 9: 0 0 0 4 3 6 7 8 0\n"
     ]
    }
   ],
   "source": [
    "import numpy as np\n",
    "grid = []\n",
    "print(\"Give empty spaces as zeros\")\n",
    "for _ in range(9):\n",
    "    row = list(map(int, input(\"Row - {}: \".format(_+1)).strip().split()))\n",
    "    grid.append(row)\n",
    "print(np.matrix(grid))"
   ]
  },
  {
   "cell_type": "markdown",
   "metadata": {},
   "source": [
    "Logic"
   ]
  },
  {
   "cell_type": "code",
   "execution_count": 10,
   "metadata": {},
   "outputs": [],
   "source": [
    "def possible(x,y,n):\n",
    "    for i in range(9):\n",
    "        if grid[y][i] == n:\n",
    "            return False\n",
    "    for i in range(9):\n",
    "        if grid[i][x] == n:\n",
    "            return False\n",
    "    x0 = (x//3)*3\n",
    "    y0 = (y//3)*3\n",
    "    for i in range(0,3):\n",
    "        for j in range(0,3):\n",
    "            if grid[y0 + i][x0 + j] == n:\n",
    "                return False\n",
    "    return True\n",
    "\n",
    "def solve():\n",
    "    for i in range(9):\n",
    "        for j in range(9):\n",
    "            if grid[i][j] == 0:\n",
    "                for num in range(1,10):\n",
    "                    if possible(j, i, num):\n",
    "                        grid[i][j] = num\n",
    "                        solve()\n",
    "                        grid[i][j] = 0\n",
    "                return\n",
    "    print(\"YAY!!\\n\")\n",
    "    print(np.matrix(grid))"
   ]
  },
  {
   "cell_type": "markdown",
   "metadata": {},
   "source": [
    "Calling Solve function"
   ]
  },
  {
   "cell_type": "code",
   "execution_count": 11,
   "metadata": {},
   "outputs": [
    {
     "name": "stdout",
     "output_type": "stream",
     "text": [
      "YAY!!\n",
      "\n",
      "[[5 8 1 6 9 3 2 7 4]\n",
      " [7 3 4 1 2 5 9 6 8]\n",
      " [2 9 6 8 4 7 5 1 3]\n",
      " [8 2 9 5 1 4 6 3 7]\n",
      " [4 6 7 3 8 9 1 2 5]\n",
      " [1 5 3 7 6 2 8 4 9]\n",
      " [3 7 8 2 5 1 4 9 6]\n",
      " [6 4 2 9 7 8 3 5 1]\n",
      " [9 1 5 4 3 6 7 8 2]]\n"
     ]
    }
   ],
   "source": [
    "solve()"
   ]
  }
 ],
 "metadata": {
  "kernelspec": {
   "display_name": "Python 3",
   "language": "python",
   "name": "python3"
  },
  "language_info": {
   "codemirror_mode": {
    "name": "ipython",
    "version": 3
   },
   "file_extension": ".py",
   "mimetype": "text/x-python",
   "name": "python",
   "nbconvert_exporter": "python",
   "pygments_lexer": "ipython3",
   "version": "3.6.4"
  }
 },
 "nbformat": 4,
 "nbformat_minor": 2
}

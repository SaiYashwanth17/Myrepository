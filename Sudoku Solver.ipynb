{
 "cells": [
  {
   "cell_type": "code",
   "execution_count": 3,
   "metadata": {},
   "outputs": [],
   "source": [
    "grid = [[0,0,0,7,9,0,0,3,4],\n",
    "        [5,0,9,2,0,0,0,1,8],\n",
    "        [0,3,0,6,0,0,0,0,0],\n",
    "        [2,4,0,1,0,0,0,0,0],\n",
    "        [0,0,8,0,4,0,9,0,0],\n",
    "        [0,0,0,0,0,6,0,4,7],\n",
    "        [0,0,0,0,0,8,0,2,0],\n",
    "        [1,8,0,0,0,2,4,0,3],\n",
    "        [4,7,0,0,1,3,0,0,0]]"
   ]
  },
  {
   "cell_type": "code",
   "execution_count": null,
   "metadata": {},
   "outputs": [],
   "source": [
    "def possible(x,y,n):\n",
    "    for i in range(9):\n",
    "        if grid[y][i] == n:\n",
    "            return False\n",
    "    for i in range(9):\n",
    "        if grid[i][x] == n:\n",
    "            return False\n",
    "    x0 = (x//3)*3\n",
    "    y0 = (y//3)*3\n",
    "    for i in range(0,3):\n",
    "        for j in range(0,3):\n",
    "            if grid[y0 + i][x0 + j] == n:\n",
    "                return False\n",
    "    return True\n",
    "\n",
    "def solve():\n",
    "    for i in range(9):\n",
    "        for j in range(9):\n",
    "            if grid[i][j] == 0:\n",
    "                for num in range(1,10):\n",
    "                    if possible(j, i, num):\n",
    "                        grid[i][j] = num\n",
    "                        solve()\n",
    "                        grid[i][j] = 0\n",
    "                return\n",
    "    print(np.matrix(grid))\n",
    "    input()"
   ]
  },
  {
   "cell_type": "code",
   "execution_count": 16,
   "metadata": {},
   "outputs": [
    {
     "name": "stdout",
     "output_type": "stream",
     "text": [
      "[[8 2 1 7 9 5 6 3 4]\n",
      " [5 6 9 2 3 4 7 1 8]\n",
      " [7 3 4 6 8 1 2 9 5]\n",
      " [2 4 7 1 5 9 3 8 6]\n",
      " [6 1 8 3 4 7 9 5 2]\n",
      " [9 5 3 8 2 6 1 4 7]\n",
      " [3 9 6 4 7 8 5 2 1]\n",
      " [1 8 5 9 6 2 4 7 3]\n",
      " [4 7 2 5 1 3 8 6 9]]\n",
      "\n"
     ]
    }
   ],
   "source": [
    "solve()"
   ]
  }
 ],
 "metadata": {
  "kernelspec": {
   "display_name": "Python 3",
   "language": "python",
   "name": "python3"
  },
  "language_info": {
   "codemirror_mode": {
    "name": "ipython",
    "version": 3
   },
   "file_extension": ".py",
   "mimetype": "text/x-python",
   "name": "python",
   "nbconvert_exporter": "python",
   "pygments_lexer": "ipython3",
   "version": "3.6.4"
  }
 },
 "nbformat": 4,
 "nbformat_minor": 2
}
